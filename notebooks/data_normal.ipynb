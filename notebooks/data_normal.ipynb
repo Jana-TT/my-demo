{
 "cells": [
  {
   "cell_type": "code",
   "execution_count": 1,
   "metadata": {},
   "outputs": [
    {
     "data": {
      "text/html": [
       "<div><style>\n",
       ".dataframe > thead > tr,\n",
       ".dataframe > tbody > tr {\n",
       "  text-align: right;\n",
       "  white-space: pre-wrap;\n",
       "}\n",
       "</style>\n",
       "<small>shape: (6_912, 6)</small><table border=\"1\" class=\"dataframe\"><thead><tr><th>primo_id</th><th>scada_id</th><th>tank_type</th><th>tank_number</th><th>level_in_inches</th><th>uom</th></tr><tr><td>i32</td><td>str</td><td>str</td><td>i32</td><td>f64</td><td>str</td></tr></thead><tbody><tr><td>69420</td><td>&quot;6941901&quot;</td><td>&quot;Oil&quot;</td><td>1</td><td>62.159021</td><td>&quot;in&quot;</td></tr><tr><td>69421</td><td>&quot;6941901&quot;</td><td>&quot;Oil&quot;</td><td>1</td><td>62.159021</td><td>&quot;in&quot;</td></tr><tr><td>69422</td><td>&quot;6941901&quot;</td><td>&quot;Oil&quot;</td><td>1</td><td>62.159021</td><td>&quot;in&quot;</td></tr><tr><td>69423</td><td>&quot;6941901&quot;</td><td>&quot;Oil&quot;</td><td>1</td><td>62.159021</td><td>&quot;in&quot;</td></tr><tr><td>69424</td><td>&quot;6941901&quot;</td><td>&quot;Oil&quot;</td><td>1</td><td>62.159021</td><td>&quot;in&quot;</td></tr><tr><td>&hellip;</td><td>&hellip;</td><td>&hellip;</td><td>&hellip;</td><td>&hellip;</td><td>&hellip;</td></tr><tr><td>98752</td><td>&quot;98750W2&quot;</td><td>&quot;Water&quot;</td><td>2</td><td>2.006812</td><td>&quot;in&quot;</td></tr><tr><td>98753</td><td>&quot;98750W2&quot;</td><td>&quot;Water&quot;</td><td>2</td><td>2.006812</td><td>&quot;in&quot;</td></tr><tr><td>98754</td><td>&quot;98750W2&quot;</td><td>&quot;Water&quot;</td><td>2</td><td>2.006812</td><td>&quot;in&quot;</td></tr><tr><td>98755</td><td>&quot;98750W2&quot;</td><td>&quot;Water&quot;</td><td>2</td><td>2.006812</td><td>&quot;in&quot;</td></tr><tr><td>98756</td><td>&quot;98750W2&quot;</td><td>&quot;Water&quot;</td><td>2</td><td>2.006812</td><td>&quot;in&quot;</td></tr></tbody></table></div>"
      ],
      "text/plain": [
       "shape: (6_912, 6)\n",
       "┌──────────┬──────────┬───────────┬─────────────┬─────────────────┬─────┐\n",
       "│ primo_id ┆ scada_id ┆ tank_type ┆ tank_number ┆ level_in_inches ┆ uom │\n",
       "│ ---      ┆ ---      ┆ ---       ┆ ---         ┆ ---             ┆ --- │\n",
       "│ i32      ┆ str      ┆ str       ┆ i32         ┆ f64             ┆ str │\n",
       "╞══════════╪══════════╪═══════════╪═════════════╪═════════════════╪═════╡\n",
       "│ 69420    ┆ 6941901  ┆ Oil       ┆ 1           ┆ 62.159021       ┆ in  │\n",
       "│ 69421    ┆ 6941901  ┆ Oil       ┆ 1           ┆ 62.159021       ┆ in  │\n",
       "│ 69422    ┆ 6941901  ┆ Oil       ┆ 1           ┆ 62.159021       ┆ in  │\n",
       "│ 69423    ┆ 6941901  ┆ Oil       ┆ 1           ┆ 62.159021       ┆ in  │\n",
       "│ 69424    ┆ 6941901  ┆ Oil       ┆ 1           ┆ 62.159021       ┆ in  │\n",
       "│ …        ┆ …        ┆ …         ┆ …           ┆ …               ┆ …   │\n",
       "│ 98752    ┆ 98750W2  ┆ Water     ┆ 2           ┆ 2.006812        ┆ in  │\n",
       "│ 98753    ┆ 98750W2  ┆ Water     ┆ 2           ┆ 2.006812        ┆ in  │\n",
       "│ 98754    ┆ 98750W2  ┆ Water     ┆ 2           ┆ 2.006812        ┆ in  │\n",
       "│ 98755    ┆ 98750W2  ┆ Water     ┆ 2           ┆ 2.006812        ┆ in  │\n",
       "│ 98756    ┆ 98750W2  ┆ Water     ┆ 2           ┆ 2.006812        ┆ in  │\n",
       "└──────────┴──────────┴───────────┴─────────────┴─────────────────┴─────┘"
      ]
     },
     "execution_count": 1,
     "metadata": {},
     "output_type": "execute_result"
    }
   ],
   "source": [
    "import polars as pl\n",
    "from my_demo.pool import DATABASE_URL\n",
    "\n",
    "query = '''\n",
    "    SELECT mc.primo_prprty primo_id, dc.source_key scada_id, REGEXP_SUBSTR(metric_nice_name, '(Oil|Water)') AS tank_type, CAST(REGEXP_SUBSTR(metric_nice_name, '[0-9]') AS INTEGER) AS tank_number, td.value level_in_inches, dc.uom uom\n",
    "    FROM sdm_dba.data_catalog dc\n",
    "    JOIN mrte_dba.mrte_completion mc ON CAST(mc.fac_primo_prprty AS varchar(64)) = dc.source_id \n",
    "    JOIN sdm_dba.timeseries_data td ON td.key_metric = dc.key_metric\n",
    "    WHERE metric_nice_name LIKE '%Level%'\n",
    "    '''\n",
    "\n",
    "lf = pl.read_database_uri(query=query, uri=DATABASE_URL, engine=\"adbc\").lazy()\n",
    "lf.collect()"
   ]
  }
 ],
 "metadata": {
  "kernelspec": {
   "display_name": "sandbox-HDilG3Cd-py3.12",
   "language": "python",
   "name": "python3"
  },
  "language_info": {
   "codemirror_mode": {
    "name": "ipython",
    "version": 3
   },
   "file_extension": ".py",
   "mimetype": "text/x-python",
   "name": "python",
   "nbconvert_exporter": "python",
   "pygments_lexer": "ipython3",
   "version": "3.12.1"
  }
 },
 "nbformat": 4,
 "nbformat_minor": 2
}
