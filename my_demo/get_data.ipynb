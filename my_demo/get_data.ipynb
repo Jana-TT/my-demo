{
 "cells": [
  {
   "cell_type": "code",
   "execution_count": 14,
   "metadata": {},
   "outputs": [],
   "source": [
    "from my_demo.pool import init \n",
    "\n",
    "await init()"
   ]
  },
  {
   "cell_type": "code",
   "execution_count": 15,
   "metadata": {},
   "outputs": [],
   "source": [
    "from my_demo.pool import db"
   ]
  },
  {
   "cell_type": "code",
   "execution_count": 17,
   "metadata": {},
   "outputs": [
    {
     "name": "stdout",
     "output_type": "stream",
     "text": [
      "shape: (3, 4)\n",
      "┌─────────┬────────────┬───────────┬────────────┐\n",
      "│ id      ┆ first_name ┆ last_name ┆ dob        │\n",
      "│ ---     ┆ ---        ┆ ---       ┆ ---        │\n",
      "│ i64     ┆ str        ┆ str       ┆ date       │\n",
      "╞═════════╪════════════╪═══════════╪════════════╡\n",
      "│ 123123  ┆ John       ┆ Doe       ┆ 1980-01-01 │\n",
      "│ 1965488 ┆ Isaac      ┆ Wolf      ┆ 2001-12-14 │\n",
      "│ 1870644 ┆ Jana       ┆ Tahan     ┆ 2000-10-12 │\n",
      "└─────────┴────────────┴───────────┴────────────┘\n"
     ]
    }
   ],
   "source": [
    "preview = await db.fetch(\"SELECT * FROM fdm_completion\")\n",
    "print(preview)"
   ]
  }
 ],
 "metadata": {
  "kernelspec": {
   "display_name": "my-demo-Ej9mVBee-py3.10",
   "language": "python",
   "name": "python3"
  },
  "language_info": {
   "codemirror_mode": {
    "name": "ipython",
    "version": 3
   },
   "file_extension": ".py",
   "mimetype": "text/x-python",
   "name": "python",
   "nbconvert_exporter": "python",
   "pygments_lexer": "ipython3",
   "version": "3.12.1"
  }
 },
 "nbformat": 4,
 "nbformat_minor": 2
}
