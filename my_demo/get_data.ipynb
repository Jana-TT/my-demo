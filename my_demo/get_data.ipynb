{
 "cells": [
  {
   "cell_type": "code",
   "execution_count": 14,
   "metadata": {},
   "outputs": [],
   "source": [
    "from my_demo.pool import init \n",
    "\n",
    "await init()"
   ]
  },
  {
   "cell_type": "code",
   "execution_count": 15,
   "metadata": {},
   "outputs": [],
   "source": [
    "from my_demo.pool import db"
   ]
  },
  {
   "cell_type": "code",
   "execution_count": 23,
   "metadata": {},
   "outputs": [
    {
     "name": "stdout",
     "output_type": "stream",
     "text": [
      "shape: (76, 6)\n",
      "┌───────────────────────────┬────────────┬───────────┬────────────────────────┬──────┬─────────────┐\n",
      "│ key_metric                ┆ source_key ┆ source_id ┆ metric_nice_name       ┆ uom  ┆ division_id │\n",
      "│ ---                       ┆ ---        ┆ ---       ┆ ---                    ┆ ---  ┆ ---         │\n",
      "│ object                    ┆ str        ┆ str       ┆ str                    ┆ str  ┆ i64         │\n",
      "╞═══════════════════════════╪════════════╪═══════════╪════════════════════════╪══════╪═════════════╡\n",
      "│ b17f11ac-d318-429a-b607-a ┆ 6941901    ┆ 69419     ┆ OilTank1Level          ┆ in   ┆ 10          │\n",
      "│ 5ba24b3…                  ┆            ┆           ┆                        ┆      ┆             │\n",
      "│ d0613649-4688-445b-aca9-b ┆ 6941902    ┆ 69419     ┆ OilTank2Level          ┆ in   ┆ 10          │\n",
      "│ 83858a7…                  ┆            ┆           ┆                        ┆      ┆             │\n",
      "│ a5de3be7-73fe-489b-b861-2 ┆ 6941903    ┆ 69419     ┆ OilTank3Level          ┆ in   ┆ 10          │\n",
      "│ ab88c3b…                  ┆            ┆           ┆                        ┆      ┆             │\n",
      "│ 9f31b503-6a7b-4203-ba81-c ┆ 6941903    ┆ 69419     ┆ OilTank4Level          ┆ in   ┆ 10          │\n",
      "│ 63efb01…                  ┆            ┆           ┆                        ┆      ┆             │\n",
      "│ 4ac0b7d9-55fe-4865-bc29-6 ┆ 6941901    ┆ 69419     ┆ OilTank1Volume         ┆ bbl  ┆ 10          │\n",
      "│ c202ff6…                  ┆            ┆           ┆                        ┆      ┆             │\n",
      "│ …                         ┆ …          ┆ …         ┆ …                      ┆ …    ┆ …           │\n",
      "│ 299d6f76-46e8-49bc-b523-6 ┆ 110009W2   ┆ 110009    ┆ WaterTank2Level        ┆ in   ┆ 30          │\n",
      "│ 73d70d8…                  ┆            ┆           ┆                        ┆      ┆             │\n",
      "│ 028aa180-e62d-4079-9b7b-8 ┆ 110009W2   ┆ 110009    ┆ WaterTank2Volume       ┆ bbl  ┆ 30          │\n",
      "│ 020a093…                  ┆            ┆           ┆                        ┆      ┆             │\n",
      "│ 19ac5155-212e-4848-8385-c ┆ 110009W2   ┆ 110009    ┆ WaterTank2InchesToESD  ┆ bbl  ┆ 30          │\n",
      "│ 75bb90f…                  ┆            ┆           ┆                        ┆      ┆             │\n",
      "│ d0819024-ab0d-4065-894d-8 ┆ 110009W2   ┆ 110009    ┆ WaterTank2TimeUntilESD ┆ days ┆ 30          │\n",
      "│ 234e28a…                  ┆            ┆           ┆                        ┆      ┆             │\n",
      "│ 893b689c-a86d-489a-ad56-0 ┆ 110009W1   ┆ 110009    ┆ WaterTank1TimeUntilESD ┆ days ┆ 30          │\n",
      "│ 6437286…                  ┆            ┆           ┆                        ┆      ┆             │\n",
      "└───────────────────────────┴────────────┴───────────┴────────────────────────┴──────┴─────────────┘\n"
     ]
    }
   ],
   "source": [
    "preview = await db.fetch(\"SELECT * FROM sdm_dba.data_catalog\")\n",
    "print(preview)"
   ]
  }
 ],
 "metadata": {
  "kernelspec": {
   "display_name": "my-demo-Ej9mVBee-py3.10",
   "language": "python",
   "name": "python3"
  },
  "language_info": {
   "codemirror_mode": {
    "name": "ipython",
    "version": 3
   },
   "file_extension": ".py",
   "mimetype": "text/x-python",
   "name": "python",
   "nbconvert_exporter": "python",
   "pygments_lexer": "ipython3",
   "version": "3.12.1"
  }
 },
 "nbformat": 4,
 "nbformat_minor": 2
}
