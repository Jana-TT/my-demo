{
 "cells": [
  {
   "cell_type": "code",
   "execution_count": 2,
   "metadata": {},
   "outputs": [],
   "source": [
    "from my_demo.pool import init \n",
    "\n",
    "await init()"
   ]
  },
  {
   "cell_type": "code",
   "execution_count": 3,
   "metadata": {},
   "outputs": [],
   "source": [
    "from my_demo.pool import db"
   ]
  },
  {
   "cell_type": "code",
   "execution_count": 4,
   "metadata": {},
   "outputs": [
    {
     "name": "stdout",
     "output_type": "stream",
     "text": [
      "shape: (6, 2)\n",
      "┌─────────────┬────────────────┐\n",
      "│ division_id ┆ division_name  │\n",
      "│ ---         ┆ ---            │\n",
      "│ i64         ┆ str            │\n",
      "╞═════════════╪════════════════╡\n",
      "│ 10          ┆ MIDLAND        │\n",
      "│ 63          ┆ SAN ANTONIO    │\n",
      "│ 50          ┆ OKLAHOMA CITY  │\n",
      "│ 60          ┆ CORPUS CHRISTI │\n",
      "│ 14          ┆ FORT WORTH     │\n",
      "│ 30          ┆ DENVER         │\n",
      "└─────────────┴────────────────┘\n"
     ]
    }
   ],
   "source": [
    "preview = await db.fetch(\"SELECT * FROM fdm_dba.fdm_division\")\n",
    "print(preview)"
   ]
  },
  {
   "cell_type": "code",
   "execution_count": 5,
   "metadata": {},
   "outputs": [
    {
     "name": "stdout",
     "output_type": "stream",
     "text": [
      "shape: (76, 6)\n",
      "┌───────────────────────────┬────────────┬───────────┬────────────────────────┬──────┬─────────────┐\n",
      "│ key_metric                ┆ source_key ┆ source_id ┆ metric_nice_name       ┆ uom  ┆ division_id │\n",
      "│ ---                       ┆ ---        ┆ ---       ┆ ---                    ┆ ---  ┆ ---         │\n",
      "│ object                    ┆ str        ┆ str       ┆ str                    ┆ str  ┆ i64         │\n",
      "╞═══════════════════════════╪════════════╪═══════════╪════════════════════════╪══════╪═════════════╡\n",
      "│ b17f11ac-d318-429a-b607-a ┆ 6941901    ┆ 69419     ┆ OilTank1Level          ┆ in   ┆ 10          │\n",
      "│ 5ba24b3…                  ┆            ┆           ┆                        ┆      ┆             │\n",
      "│ d0613649-4688-445b-aca9-b ┆ 6941902    ┆ 69419     ┆ OilTank2Level          ┆ in   ┆ 10          │\n",
      "│ 83858a7…                  ┆            ┆           ┆                        ┆      ┆             │\n",
      "│ a5de3be7-73fe-489b-b861-2 ┆ 6941903    ┆ 69419     ┆ OilTank3Level          ┆ in   ┆ 10          │\n",
      "│ ab88c3b…                  ┆            ┆           ┆                        ┆      ┆             │\n",
      "│ 9f31b503-6a7b-4203-ba81-c ┆ 6941903    ┆ 69419     ┆ OilTank4Level          ┆ in   ┆ 10          │\n",
      "│ 63efb01…                  ┆            ┆           ┆                        ┆      ┆             │\n",
      "│ 4ac0b7d9-55fe-4865-bc29-6 ┆ 6941901    ┆ 69419     ┆ OilTank1Volume         ┆ bbl  ┆ 10          │\n",
      "│ c202ff6…                  ┆            ┆           ┆                        ┆      ┆             │\n",
      "│ …                         ┆ …          ┆ …         ┆ …                      ┆ …    ┆ …           │\n",
      "│ 299d6f76-46e8-49bc-b523-6 ┆ 110009W2   ┆ 110009    ┆ WaterTank2Level        ┆ in   ┆ 30          │\n",
      "│ 73d70d8…                  ┆            ┆           ┆                        ┆      ┆             │\n",
      "│ 028aa180-e62d-4079-9b7b-8 ┆ 110009W2   ┆ 110009    ┆ WaterTank2Volume       ┆ bbl  ┆ 30          │\n",
      "│ 020a093…                  ┆            ┆           ┆                        ┆      ┆             │\n",
      "│ 19ac5155-212e-4848-8385-c ┆ 110009W2   ┆ 110009    ┆ WaterTank2InchesToESD  ┆ bbl  ┆ 30          │\n",
      "│ 75bb90f…                  ┆            ┆           ┆                        ┆      ┆             │\n",
      "│ d0819024-ab0d-4065-894d-8 ┆ 110009W2   ┆ 110009    ┆ WaterTank2TimeUntilESD ┆ days ┆ 30          │\n",
      "│ 234e28a…                  ┆            ┆           ┆                        ┆      ┆             │\n",
      "│ 893b689c-a86d-489a-ad56-0 ┆ 110009W1   ┆ 110009    ┆ WaterTank1TimeUntilESD ┆ days ┆ 30          │\n",
      "│ 6437286…                  ┆            ┆           ┆                        ┆      ┆             │\n",
      "└───────────────────────────┴────────────┴───────────┴────────────────────────┴──────┴─────────────┘\n"
     ]
    }
   ],
   "source": [
    "preview = await db.fetch(\"SELECT * FROM sdm_dba.data_catalog\")\n",
    "print(preview)"
   ]
  },
  {
   "cell_type": "code",
   "execution_count": 6,
   "metadata": {},
   "outputs": [
    {
     "name": "stdout",
     "output_type": "stream",
     "text": [
      "shape: (3_178, 3)\n",
      "┌───────────────────────────────────┬────────────────────────────┬───────────┐\n",
      "│ key_metric                        ┆ ts                         ┆ value     │\n",
      "│ ---                               ┆ ---                        ┆ ---       │\n",
      "│ object                            ┆ datetime[μs]               ┆ f64       │\n",
      "╞═══════════════════════════════════╪════════════════════════════╪═══════════╡\n",
      "│ 36c71979-943a-4544-a1db-50b3e60e… ┆ 2024-03-06 04:11:23.401954 ┆ 6.659328  │\n",
      "│ 4ab57531-4dcf-4feb-be79-7b19c57b… ┆ 2024-03-06 04:12:10.970106 ┆ 6.314359  │\n",
      "│ d0819024-ab0d-4065-894d-8234e28a… ┆ 2024-03-06 04:10:54.038954 ┆ 3.161176  │\n",
      "│ 893b689c-a86d-489a-ad56-06437286… ┆ 2024-03-06 04:14:00.971219 ┆ 6.658088  │\n",
      "│ 6467561f-e9ac-4ba0-ac6b-1f1584ee… ┆ 2024-03-06 04:15:22.003985 ┆ 25.078137 │\n",
      "│ …                                 ┆ …                          ┆ …         │\n",
      "│ 82a65210-f198-410a-8859-a5bfb575… ┆ 2024-03-04 05:11:21.206990 ┆ 83.743735 │\n",
      "│ 1ac3dc19-5a49-441a-92ed-64710d48… ┆ 2024-03-04 05:12:34.255959 ┆ 82.730961 │\n",
      "│ c7105e6f-8a8e-4b3d-872d-ed2072f4… ┆ 2024-03-04 05:12:44.646494 ┆ 59.782611 │\n",
      "│ 766d3faf-54f8-4e24-90ee-b4f9155f… ┆ 2024-03-04 05:11:30.972475 ┆ 77.162052 │\n",
      "│ 299d6f76-46e8-49bc-b523-673d70d8… ┆ 2024-03-04 05:12:19.965126 ┆ 97.249169 │\n",
      "└───────────────────────────────────┴────────────────────────────┴───────────┘\n"
     ]
    }
   ],
   "source": [
    "preview = await db.fetch(\"SELECT * FROM sdm_dba.timeseries_data\")\n",
    "print(preview)"
   ]
  },
  {
   "cell_type": "code",
   "execution_count": 7,
   "metadata": {},
   "outputs": [
    {
     "name": "stdout",
     "output_type": "stream",
     "text": [
      "shape: (26, 6)\n",
      "┌───────────────┬─────────────────┬─────────────────┬─────────────┬──────────────┬─────────────────┐\n",
      "│ completion_id ┆ completion_name ┆ first_productio ┆ division_id ┆ primo_prprty ┆ fac_primo_prprt │\n",
      "│ ---           ┆ ---             ┆ n_ts            ┆ ---         ┆ ---          ┆ y               │\n",
      "│ i64           ┆ str             ┆ ---             ┆ i64         ┆ i64          ┆ ---             │\n",
      "│               ┆                 ┆ datetime[μs]    ┆             ┆              ┆ i64             │\n",
      "╞═══════════════╪═════════════════╪═════════════════╪═════════════╪══════════════╪═════════════════╡\n",
      "│ 750001348     ┆ RED HILLS 1H    ┆ 2018-01-01      ┆ 10          ┆ 69420        ┆ 69419           │\n",
      "│               ┆                 ┆ 00:00:00        ┆             ┆              ┆                 │\n",
      "│ 750001349     ┆ RED HILLS 2H    ┆ 2018-01-01      ┆ 10          ┆ 69421        ┆ 69419           │\n",
      "│               ┆                 ┆ 01:00:00        ┆             ┆              ┆                 │\n",
      "│ 750001350     ┆ RED HILLS 3H    ┆ 2018-01-01      ┆ 10          ┆ 69422        ┆ 69419           │\n",
      "│               ┆                 ┆ 02:00:00        ┆             ┆              ┆                 │\n",
      "│ 750001351     ┆ RED HILLS 4H    ┆ 2018-01-01      ┆ 10          ┆ 69423        ┆ 69419           │\n",
      "│               ┆                 ┆ 03:00:00        ┆             ┆              ┆                 │\n",
      "│ 750001352     ┆ RED HILLS 5H    ┆ 2018-01-01      ┆ 10          ┆ 69424        ┆ 69419           │\n",
      "│               ┆                 ┆ 04:00:00        ┆             ┆              ┆                 │\n",
      "│ …             ┆ …               ┆ …               ┆ …           ┆ …            ┆ …               │\n",
      "│ 110020401     ┆ LOCO CITY BATYR ┆ 2020-07-29      ┆ 63          ┆ 98753        ┆ 98750           │\n",
      "│               ┆ 3H              ┆ 08:00:00        ┆             ┆              ┆                 │\n",
      "│ 110020402     ┆ LOCO CITY BATYR ┆ 2020-07-29      ┆ 63          ┆ 98754        ┆ 98750           │\n",
      "│               ┆ 4H              ┆ 08:10:00        ┆             ┆              ┆                 │\n",
      "│ 110020403     ┆ LOCO CITY BATYR ┆ 2020-07-29      ┆ 63          ┆ 98755        ┆ 98750           │\n",
      "│               ┆ 5H              ┆ 09:00:00        ┆             ┆              ┆                 │\n",
      "│ 110020404     ┆ LOCO CITY BATYR ┆ 2020-07-29      ┆ 63          ┆ 98756        ┆ 98750           │\n",
      "│               ┆ 6H              ┆ 09:05:00        ┆             ┆              ┆                 │\n",
      "│ 983439283     ┆ ROBIN BANKS     ┆ 2016-11-14      ┆ 30          ┆ 110009       ┆ null            │\n",
      "│               ┆ WELL            ┆ 07:30:15        ┆             ┆              ┆                 │\n",
      "└───────────────┴─────────────────┴─────────────────┴─────────────┴──────────────┴─────────────────┘\n"
     ]
    }
   ],
   "source": [
    "preview = await db.fetch(\"SELECT * FROM mrte_dba.mrte_completion\")\n",
    "print(preview)"
   ]
  },
  {
   "cell_type": "code",
   "execution_count": 8,
   "metadata": {},
   "outputs": [
    {
     "name": "stdout",
     "output_type": "stream",
     "text": [
      "shape: (3, 5)\n",
      "┌─────────────┬──────────────────────────┬─────────────────────┬─────────────┬──────────────┐\n",
      "│ facility_id ┆ facility_name            ┆ first_production_ts ┆ division_id ┆ primo_prprty │\n",
      "│ ---         ┆ ---                      ┆ ---                 ┆ ---         ┆ ---          │\n",
      "│ i64         ┆ str                      ┆ datetime[μs]        ┆ i64         ┆ i64          │\n",
      "╞═════════════╪══════════════════════════╪═════════════════════╪═════════════╪══════════════╡\n",
      "│ 9928383426  ┆ RED HILLS FACILITY       ┆ 2018-01-01 00:00:00 ┆ 10          ┆ 69419        │\n",
      "│ 348823748   ┆ LOCO CITY FACILITY       ┆ 2020-07-29 00:00:00 ┆ 63          ┆ 98743        │\n",
      "│ 348823749   ┆ LOCO CITY BATYR FACILITY ┆ 2020-07-29 05:30:00 ┆ 63          ┆ 98750        │\n",
      "└─────────────┴──────────────────────────┴─────────────────────┴─────────────┴──────────────┘\n"
     ]
    }
   ],
   "source": [
    "preview = await db.fetch(\"SELECT * FROM mrte_dba.mrte_facility\")\n",
    "print(preview)"
   ]
  }
 ],
 "metadata": {
  "kernelspec": {
   "display_name": "my-demo-Ej9mVBee-py3.10",
   "language": "python",
   "name": "python3"
  },
  "language_info": {
   "codemirror_mode": {
    "name": "ipython",
    "version": 3
   },
   "file_extension": ".py",
   "mimetype": "text/x-python",
   "name": "python",
   "nbconvert_exporter": "python",
   "pygments_lexer": "ipython3",
   "version": "3.12.1"
  }
 },
 "nbformat": 4,
 "nbformat_minor": 2
}
